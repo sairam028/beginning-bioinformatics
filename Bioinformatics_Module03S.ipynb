{
  "cells": [
    {
      "cell_type": "markdown",
      "metadata": {
        "id": "view-in-github",
        "colab_type": "text"
      },
      "source": [
        "<a href=\"https://colab.research.google.com/github/sairam028/beginning-bioinformatics/blob/main/Bioinformatics_Module03S.ipynb\" target=\"_parent\"><img src=\"https://colab.research.google.com/assets/colab-badge.svg\" alt=\"Open In Colab\"/></a>"
      ]
    },
    {
      "cell_type": "markdown",
      "id": "50fc65ff",
      "metadata": {
        "id": "50fc65ff"
      },
      "source": [
        "# Bioinformatics — Module 03 (Colab-ready)\n",
        "\n",
        "**What this notebook is:** a ready-to-run Colab notebook that walks through the Module 03 exercises (P6–P23) and the Rosalind problems described in your assignment.\n",
        "\n",
        "**How to use:**\n",
        "1. Upload this `.ipynb` to Google Colab (File → Upload notebook) or open it from GitHub.\n",
        "2. Run cells top to bottom (Runtime → Run all). If a cell asks for `input()` you can type responses in the prompt or leave defaults.\n",
        "3. Edit/replace any sample data with your own input files if desired.\n",
        "4. Save a copy to your GitHub repo: File → Save a copy in GitHub, and set the path to `notebooks/Bioinformatics_Module03.ipynb`.\n",
        "\n",
        "**Files created by the demo cells:** `practice.txt`, `sample.fasta`, `sample_dna.txt` — these are small example files the notebook uses so you can run everything without extra uploads.\n",
        "\n",
        "---\n",
        "**NOTE:** After you run and verify everything, push the final notebook to your GitHub repo and create a tag/branch named `week3-submission` (see the separate step-by-step git instructions provided alongside this notebook)."
      ]
    },
    {
      "cell_type": "code",
      "execution_count": 1,
      "id": "7c974cb5",
      "metadata": {
        "colab": {
          "base_uri": "https://localhost:8080/"
        },
        "id": "7c974cb5",
        "outputId": "4157e6ef-5286-4d9c-c249-c0dfd7814a82"
      },
      "outputs": [
        {
          "output_type": "stream",
          "name": "stdout",
          "text": [
            "\u001b[2K   \u001b[90m━━━━━━━━━━━━━━━━━━━━━━━━━━━━━━━━━━━━━━━━\u001b[0m \u001b[32m3.3/3.3 MB\u001b[0m \u001b[31m23.3 MB/s\u001b[0m eta \u001b[36m0:00:00\u001b[0m\n",
            "\u001b[?25hbiopython installed (or already available)\n"
          ]
        }
      ],
      "source": [
        "# Install Biopython (only needed once in Colab)\n",
        "!pip install biopython --quiet\n",
        "print('biopython installed (or already available)')"
      ]
    },
    {
      "cell_type": "code",
      "execution_count": 2,
      "id": "8c432500",
      "metadata": {
        "colab": {
          "base_uri": "https://localhost:8080/"
        },
        "id": "8c432500",
        "outputId": "5d858697-0d68-4207-e23c-41a0d19a814e"
      },
      "outputs": [
        {
          "output_type": "stream",
          "name": "stdout",
          "text": [
            "Created practice.txt, sample.fasta, sample_dna.txt\n"
          ]
        }
      ],
      "source": [
        "# Create small sample files used by later exercises\n",
        "practice = '''Line one\n",
        "Line two\n",
        "Line three\n",
        "This is a blank line next:\n",
        "\n",
        "End of practice file.\n",
        "'''\n",
        "with open('practice.txt','w') as f:\n",
        "    f.write(practice)\n",
        "\n",
        "sample_fasta = '>seq1 sample sequence\\nATGCGTATCGATCGATCGATCGATGCTAGCTAGCTAG\\n>seq2 another sequence\\nATGCGTATTTTTCCCCGGGGAAAACCCCTTTTGGGG\\n'\n",
        "with open('sample.fasta','w') as f:\n",
        "    f.write(sample_fasta)\n",
        "\n",
        "# small DNA file for tests\n",
        "with open('sample_dna.txt','w') as f:\n",
        "    f.write('ATGTTTCTT')\n",
        "\n",
        "print('Created practice.txt, sample.fasta, sample_dna.txt')"
      ]
    },
    {
      "cell_type": "markdown",
      "id": "46cb7e0a",
      "metadata": {
        "id": "46cb7e0a"
      },
      "source": [
        "## P6 — `input()` demo\n",
        "This cell shows a safe pattern for using `input()` in notebooks. If you run non-interactively, the default value will be used."
      ]
    },
    {
      "cell_type": "code",
      "execution_count": 3,
      "id": "18ab9013",
      "metadata": {
        "colab": {
          "base_uri": "https://localhost:8080/"
        },
        "id": "18ab9013",
        "outputId": "9afbe783-093d-4c0e-9f78-5e91c1bc6f83"
      },
      "outputs": [
        {
          "output_type": "stream",
          "name": "stdout",
          "text": [
            "Enter your name (or press Enter to use default): Sairam Reddy Mothe\n",
            "Hello, Sairam Reddy Mothe!\n",
            "Who to greet? (default: Rosalind) \n",
            "Hello, Rosalind!\n"
          ]
        }
      ],
      "source": [
        "name = input('Enter your name (or press Enter to use default): ') or 'Your Name'\n",
        "print(f'Hello, {name}!')\n",
        "\n",
        "# Example: a small Rosalind-style function that greets\n",
        "def rosalind_greet():\n",
        "    who = input('Who to greet? (default: Rosalind) ') or 'Rosalind'\n",
        "    return f'Hello, {who}!'\n",
        "\n",
        "print(rosalind_greet())"
      ]
    },
    {
      "cell_type": "markdown",
      "id": "f67fe5d4",
      "metadata": {
        "id": "f67fe5d4"
      },
      "source": [
        "## P7 — Lists (create, append, insert, replace)"
      ]
    },
    {
      "cell_type": "code",
      "execution_count": 4,
      "id": "7f64635e",
      "metadata": {
        "colab": {
          "base_uri": "https://localhost:8080/"
        },
        "id": "7f64635e",
        "outputId": "ee68e32b-e2b9-42c0-e61d-b7c5b3a86270"
      },
      "outputs": [
        {
          "output_type": "stream",
          "name": "stdout",
          "text": [
            "original: ['apple', 'banana', 'cherry']\n",
            "after append: ['apple', 'banana', 'cherry', 'date']\n",
            "after insert at index 1: ['apple', 'blueberry', 'banana', 'cherry', 'date']\n",
            "after replace index 2: ['apple', 'blueberry', 'blackberry', 'cherry', 'date']\n",
            "slice [1:4]: ['blueberry', 'blackberry', 'cherry']\n"
          ]
        }
      ],
      "source": [
        "lst = ['apple', 'banana', 'cherry']\n",
        "print('original:', lst)\n",
        "\n",
        "# append\n",
        "lst.append('date')\n",
        "print('after append:', lst)\n",
        "\n",
        "# insert at index 1\n",
        "lst.insert(1, 'blueberry')\n",
        "print('after insert at index 1:', lst)\n",
        "\n",
        "# replace index 2\n",
        "lst[2] = 'blackberry'\n",
        "print('after replace index 2:', lst)\n",
        "\n",
        "# slice example\n",
        "print('slice [1:4]:', lst[1:4])"
      ]
    },
    {
      "cell_type": "markdown",
      "id": "05cbd6b0",
      "metadata": {
        "id": "05cbd6b0"
      },
      "source": [
        "## P8 — Slicing strings & lists (Rosalind #2 examples)"
      ]
    },
    {
      "cell_type": "code",
      "execution_count": 5,
      "id": "54d488a9",
      "metadata": {
        "colab": {
          "base_uri": "https://localhost:8080/"
        },
        "id": "54d488a9",
        "outputId": "6dde43f7-b9d2-4838-d59e-c91627eb5813"
      },
      "outputs": [
        {
          "output_type": "stream",
          "name": "stdout",
          "text": [
            "original string: GATGGAACTTGACTACGTAAATT\n",
            "first 3 chars: GAT\n",
            "last 5 chars: AAATT\n",
            "every second char: GTGATGCAGAAT\n",
            "reverse complement: AATTTACGTAGTCAAGTTCCATC\n",
            "substring 3..7 (1-based indices 3-7): TGGAA\n"
          ]
        }
      ],
      "source": [
        "s = 'GATGGAACTTGACTACGTAAATT'\n",
        "print('original string:', s)\n",
        "print('first 3 chars:', s[:3])\n",
        "print('last 5 chars:', s[-5:])\n",
        "print('every second char:', s[::2])\n",
        "\n",
        "# simple Rosalind string problem: reverse complement by slicing + translate mapping\n",
        "comp_map = str.maketrans('ACGT','TGCA')\n",
        "revcomp = s.translate(comp_map)[::-1]\n",
        "print('reverse complement:', revcomp)\n",
        "\n",
        "# Rosalind #2-like: return substring example\n",
        "print('substring 3..7 (1-based indices 3-7):', s[2:7])"
      ]
    },
    {
      "cell_type": "markdown",
      "id": "2b58cd9b",
      "metadata": {
        "id": "2b58cd9b"
      },
      "source": [
        "## P9 — If / Else"
      ]
    },
    {
      "cell_type": "code",
      "execution_count": 6,
      "id": "798c5b42",
      "metadata": {
        "colab": {
          "base_uri": "https://localhost:8080/"
        },
        "id": "798c5b42",
        "outputId": "e70ed59c-b5ef-4a70-a106-9755913d57f7"
      },
      "outputs": [
        {
          "output_type": "stream",
          "name": "stdout",
          "text": [
            "not equal — subtract them: 5\n",
            "x longer? False\n"
          ]
        }
      ],
      "source": [
        "a = 10\n",
        "b = 5\n",
        "if a == b:\n",
        "    print('equal — add them:', a+b)\n",
        "else:\n",
        "    print('not equal — subtract them:', a-b)\n",
        "\n",
        "# small exercise: compare string lengths\n",
        "x = 'AGCT'\n",
        "y = 'AGCTG'\n",
        "print('x longer?' , len(x) > len(y))"
      ]
    },
    {
      "cell_type": "markdown",
      "id": "8fde9335",
      "metadata": {
        "id": "8fde9335"
      },
      "source": [
        "## P10 — While loop (run exactly 3 times)"
      ]
    },
    {
      "cell_type": "code",
      "execution_count": 7,
      "id": "6057005f",
      "metadata": {
        "colab": {
          "base_uri": "https://localhost:8080/"
        },
        "id": "6057005f",
        "outputId": "6f345e25-6db7-4c72-a501-1a61fbb21f8a"
      },
      "outputs": [
        {
          "output_type": "stream",
          "name": "stdout",
          "text": [
            "loop iteration 1\n",
            "loop iteration 2\n",
            "loop iteration 3\n"
          ]
        }
      ],
      "source": [
        "i = 0\n",
        "while i < 3:\n",
        "    print('loop iteration', i+1)\n",
        "    i += 1\n",
        "\n",
        "# Avoid infinite loop example (do not run if you change condition)\n"
      ]
    },
    {
      "cell_type": "markdown",
      "id": "60482b24",
      "metadata": {
        "id": "60482b24"
      },
      "source": [
        "## P11 & P12 — For loop and `range()`"
      ]
    },
    {
      "cell_type": "code",
      "execution_count": 8,
      "id": "a079e773",
      "metadata": {
        "colab": {
          "base_uri": "https://localhost:8080/"
        },
        "id": "a079e773",
        "outputId": "50152515-ee70-467c-8f5c-6d340258b3d7"
      },
      "outputs": [
        {
          "output_type": "stream",
          "name": "stdout",
          "text": [
            "fruit: apple\n",
            "fruit: banana\n",
            "fruit: cherry\n",
            "\n",
            "range 0..9:\n",
            "0 1 2 3 4 5 6 7 8 9 \n",
            "\n",
            "every 3rd number from 9 to 27 inclusive:\n",
            "9 12 15 18 21 24 27 "
          ]
        }
      ],
      "source": [
        "fruits = ['apple','banana','cherry']\n",
        "for f in fruits:\n",
        "    print('fruit:', f)\n",
        "\n",
        "print('\\nrange 0..9:')\n",
        "for i in range(10):\n",
        "    print(i, end=' ')\n",
        "\n",
        "print('\\n\\nevery 3rd number from 9 to 27 inclusive:')\n",
        "for i in range(9, 28, 3):\n",
        "    print(i, end=' ')\n"
      ]
    },
    {
      "cell_type": "markdown",
      "id": "0dec6eb6",
      "metadata": {
        "id": "0dec6eb6"
      },
      "source": [
        "## P13–P16 — File I/O, join(), split(), and line processing"
      ]
    },
    {
      "cell_type": "code",
      "execution_count": 9,
      "id": "505c3217",
      "metadata": {
        "colab": {
          "base_uri": "https://localhost:8080/"
        },
        "id": "505c3217",
        "outputId": "daabd913-6fea-48bb-930f-75f8e899bdbb"
      },
      "outputs": [
        {
          "output_type": "stream",
          "name": "stdout",
          "text": [
            "Full file content:\n",
            " Line one\n",
            "Line two\n",
            "Line three\n",
            "This is a blank line next:\n",
            "\n",
            "End of practice file.\n",
            "\n",
            "\n",
            "readlines() -> ['Line one\\n', 'Line two\\n', 'Line three\\n', 'This is a blank line next:\\n', '\\n', 'End of practice file.\\n']\n",
            "\n",
            "joined back:\n",
            " Line one\n",
            "Line two\n",
            "Line three\n",
            "This is a blank line next:\n",
            "\n",
            "End of practice file.\n",
            "\n",
            "\n",
            "iterating lines and rstrip:\n",
            "1 Line one\n",
            "2 Line two\n",
            "3 Line three\n",
            "4 This is a blank line next:\n",
            "5 \n",
            "6 End of practice file.\n",
            "\n",
            "words in first line:\n",
            "Line\n",
            "one\n"
          ]
        }
      ],
      "source": [
        "# Read the practice.txt created earlier\n",
        "with open('practice.txt','r') as f:\n",
        "    data = f.read()\n",
        "print('Full file content:\\n', data)\n",
        "\n",
        "# Readlines into list\n",
        "with open('practice.txt','r') as f:\n",
        "    lines = f.readlines()\n",
        "print('\\nreadlines() ->', lines)\n",
        "\n",
        "# join example (put lines back together):\n",
        "joined = ''.join(lines)\n",
        "print('\\njoined back:\\n', joined)\n",
        "\n",
        "# iterate lines and strip newline\n",
        "print('\\niterating lines and rstrip:')\n",
        "with open('practice.txt','r') as f:\n",
        "    for i, line in enumerate(f, start=1):\n",
        "        print(i, line.rstrip())\n",
        "\n",
        "# split words\n",
        "print('\\nwords in first line:')\n",
        "for w in lines[0].split():\n",
        "    print(w)\n"
      ]
    },
    {
      "cell_type": "markdown",
      "id": "60aec7da",
      "metadata": {
        "id": "60aec7da"
      },
      "source": [
        "## P17–P19 — Dictionaries & counting (Rosalind #6 counting DNA nucleotides, word counting)"
      ]
    },
    {
      "cell_type": "code",
      "execution_count": 10,
      "id": "fa15bab2",
      "metadata": {
        "colab": {
          "base_uri": "https://localhost:8080/"
        },
        "id": "fa15bab2",
        "outputId": "6b7cb5ab-54a6-424a-aae0-6fb45344896d"
      },
      "outputs": [
        {
          "output_type": "stream",
          "name": "stdout",
          "text": [
            "word counts: {'this': 2, 'is': 2, 'a': 1, 'test': 2, 'simple': 1}\n",
            "sample seq: ATGTTTCTT\n",
            "A C G T counts: 1 1 1 6\n"
          ]
        }
      ],
      "source": [
        "# Word-count example\n",
        "text = 'this is a test this test is simple'\n",
        "counts = {}\n",
        "for w in text.split():\n",
        "    counts[w] = counts.get(w, 0) + 1\n",
        "print('word counts:', counts)\n",
        "\n",
        "# Counting DNA nucleotides (Rosalind #6)\n",
        "from collections import Counter\n",
        "with open('sample_dna.txt') as f:\n",
        "    seq = f.read().strip()\n",
        "print('sample seq:', seq)\n",
        "counts = Counter(seq)\n",
        "print('A C G T counts:', counts.get('A',0), counts.get('C',0), counts.get('G',0), counts.get('T',0))\n"
      ]
    },
    {
      "cell_type": "markdown",
      "id": "0d58583c",
      "metadata": {
        "id": "0d58583c"
      },
      "source": [
        "## P20–P23 — Biopython: Seq, SeqIO, GC content, transcribe/translate"
      ]
    },
    {
      "cell_type": "code",
      "execution_count": 11,
      "id": "752f5be2",
      "metadata": {
        "colab": {
          "base_uri": "https://localhost:8080/"
        },
        "id": "752f5be2",
        "outputId": "90925f8c-0946-4bd8-dcca-4733ce6b2dfc"
      },
      "outputs": [
        {
          "output_type": "stream",
          "name": "stdout",
          "text": [
            "Seq: ATGTACT\n",
            "complement: TACATGA\n",
            "reverse_complement: AGTACAT\n",
            "transcribe: AUGUACU\n",
            "translate: MY\n",
            "\n",
            "Count nucleotides (from sample_dna.txt): (1, 1, 1, 6)\n",
            "Transcribed RNA: AUGUUUCUU\n",
            "Translated protein: MFL\n",
            ">seq1 len=37 GC=0.4865\n",
            ">seq2 len=36 GC=0.5278\n",
            "\n",
            "Max GC: seq2 0.5277777777777778\n"
          ]
        },
        {
          "output_type": "stream",
          "name": "stderr",
          "text": [
            "/usr/local/lib/python3.12/dist-packages/Bio/Seq.py:2879: BiopythonWarning: Partial codon, len(sequence) not a multiple of three. Explicitly trim the sequence or add trailing N before translation. This may become an error in future.\n",
            "  warnings.warn(\n"
          ]
        }
      ],
      "source": [
        "from Bio.Seq import Seq\n",
        "from Bio import SeqIO\n",
        "from Bio.SeqUtils import gc_fraction\n",
        "\n",
        "# Seq examples\n",
        "s = Seq('ATGTACT')\n",
        "print('Seq:', s)\n",
        "print('complement:', s.complement())\n",
        "print('reverse_complement:', s.reverse_complement())\n",
        "print('transcribe:', s.transcribe())\n",
        "print('translate:', s.translate())\n",
        "\n",
        "# Functions for Rosalind problems\n",
        "\n",
        "def count_nucleotides(sequence):\n",
        "    from collections import Counter\n",
        "    c = Counter(sequence)\n",
        "    return c['A'], c['C'], c['G'], c['T']\n",
        "\n",
        "print('\\nCount nucleotides (from sample_dna.txt):', count_nucleotides(seq))\n",
        "\n",
        "# Transcribe DNA -> RNA\n",
        "def transcribe_dna_to_rna(dna):\n",
        "    return str(Seq(dna).transcribe())\n",
        "\n",
        "print('Transcribed RNA:', transcribe_dna_to_rna(seq))\n",
        "\n",
        "# Translate RNA -> Protein (via DNA->RNA->Protein)\n",
        "def translate_dna(dna):\n",
        "    return str(Seq(dna).transcribe().translate())\n",
        "\n",
        "print('Translated protein:', translate_dna(seq))\n",
        "\n",
        "# Parse sample FASTA and compute GC content per record\n",
        "records = list(SeqIO.parse('sample.fasta','fasta'))\n",
        "for rec in records:\n",
        "    seqstr = str(rec.seq)\n",
        "    print(f\">{rec.id} len={len(seqstr)} GC={gc_fraction(seqstr):.4f}\")\n",
        "\n",
        "# Rosalind #9: find ID with max GC\n",
        "best = None\n",
        "best_gc = -1.0\n",
        "for rec in records:\n",
        "    g = gc_fraction(str(rec.seq))\n",
        "    if g > best_gc:\n",
        "        best_gc = g\n",
        "        best = rec.id\n",
        "print('\\nMax GC:', best, best_gc)\n"
      ]
    },
    {
      "cell_type": "markdown",
      "id": "8ad8fe48",
      "metadata": {
        "id": "8ad8fe48"
      },
      "source": [
        "---\n",
        "\n",
        "## Final steps (what you should do after running this notebook)\n",
        "\n",
        "1. **Edit and complete** any cells with your own solutions or different input files as required by the assignment.\n",
        "2. **Save** the notebook to GitHub: Colab → File → Save a copy in GitHub, and set the path to `notebooks/Bioinformatics_Module03.ipynb`.\n",
        "3. In your GitHub repo add `docs/ai_usage.md` (brief AI usage note) and update `README.md` to include `Your Name + UTA ID + Course-Section`.\n",
        "4. Create a branch or tag named `week3-submission` (either via Git locally or GitHub web UI). The fixed submission URL will be `https://github.com/<your_username>/bioinformatics-rosalind/tree/week3-submission`.\n",
        "5. Submit the **two URLs** (one per line) in the Canvas Text Entry box: first the fixed version link, then the repo URL.\n",
        "\n",
        "If you want, I can also fill in your `README.md` text and produce the exact `git` commands tailored to your GitHub username and UTA ID — tell me the details and I will produce the ready-to-run commands."
      ]
    }
  ],
  "metadata": {
    "colab": {
      "provenance": [],
      "toc_visible": true,
      "include_colab_link": true
    },
    "language_info": {
      "name": "python"
    },
    "kernelspec": {
      "name": "python3",
      "display_name": "Python 3"
    }
  },
  "nbformat": 4,
  "nbformat_minor": 5
}